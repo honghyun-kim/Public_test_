{
  "nbformat": 4,
  "nbformat_minor": 0,
  "metadata": {
    "colab": {
      "name": "LG-DeepLearning 1week sol.ipynb",
      "provenance": [],
      "collapsed_sections": [],
      "toc_visible": true,
      "include_colab_link": true
    },
    "kernelspec": {
      "name": "python3",
      "display_name": "Python 3"
    },
    "language_info": {
      "name": "python"
    }
  },
  "cells": [
    {
      "cell_type": "markdown",
      "metadata": {
        "id": "view-in-github",
        "colab_type": "text"
      },
      "source": [
        "<a href=\"https://colab.research.google.com/github/honghyun-kim/Public_test_/blob/main/LG_DeepLearning_1week_sol.ipynb\" target=\"_parent\"><img src=\"https://colab.research.google.com/assets/colab-badge.svg\" alt=\"Open In Colab\"/></a>"
      ]
    },
    {
      "cell_type": "markdown",
      "metadata": {
        "id": "nbuSlpaVt3Gi"
      },
      "source": [
        "# https://tinyurl.com/ywzrxpwj"
      ]
    },
    {
      "cell_type": "markdown",
      "metadata": {
        "id": "4lH5V_FGIlgn"
      },
      "source": [
        "# Table of contents\n",
        "\n",
        "## 1. Classification(분류): XOR 문제, NOR 문제 실습\n",
        "## 2. Regression(회귀): Neural Network의 함수 학습 문제\n",
        "## 3. IRIS 데이터를 활용한 붓꽃 종류 분류 문제"
      ]
    },
    {
      "cell_type": "markdown",
      "metadata": {
        "id": "-Ej9fVrYJm9n"
      },
      "source": [
        "# 실습 환경 구축\n",
        "### 런타임 -> 런타임 유형 변경 -> 하드웨어 가속기 -> GPU로 변경"
      ]
    },
    {
      "cell_type": "code",
      "metadata": {
        "id": "1HjPhgAuBiVY"
      },
      "source": [
        "!nvidia-smi"
      ],
      "execution_count": null,
      "outputs": []
    },
    {
      "cell_type": "markdown",
      "metadata": {
        "id": "zHQ1zW-z_G_2"
      },
      "source": [
        "### 필요한 라이브러리 로드"
      ]
    },
    {
      "cell_type": "code",
      "metadata": {
        "id": "0vFwKXBJfUWM"
      },
      "source": [
        "import tensorflow as tf\n",
        "import numpy as np\n",
        "import random\n",
        "\n",
        "import warnings\n",
        "warnings.filterwarnings('ignore')"
      ],
      "execution_count": null,
      "outputs": []
    },
    {
      "cell_type": "markdown",
      "metadata": {
        "id": "AfBqqKGa_LcW"
      },
      "source": [
        "### Reproduction을 위한 seed 값 설정"
      ]
    },
    {
      "cell_type": "code",
      "metadata": {
        "id": "ilteCpAp_E_l"
      },
      "source": [
        "seed = 42\n",
        "\n",
        "np.random.seed(seed)\n",
        "tf.random.set_seed(seed)"
      ],
      "execution_count": null,
      "outputs": []
    },
    {
      "cell_type": "markdown",
      "metadata": {
        "id": "_o5-mNQ8lo_C"
      },
      "source": [
        "# 1. 분류문제: XOR, NOR 실습\n",
        "## XOR 문제란?\n",
        "![picture](https://img1.daumcdn.net/thumb/R1280x0/?scode=mtistory2&fname=http%3A%2F%2Fcfile22.uf.tistory.com%2Fimage%2F99612E4B5C0B73DD3417CA)"
      ]
    },
    {
      "cell_type": "code",
      "metadata": {
        "id": "60rqd1P2wNdb"
      },
      "source": [
        "# XOR data 만들기\n",
        "x = np.array([[0, 0], [0, 1], [1, 0], [1, 1]])\n",
        "y = np.array([[0], [1], [1], [0]])"
      ],
      "execution_count": null,
      "outputs": []
    },
    {
      "cell_type": "code",
      "metadata": {
        "id": "t9fEuSlS-hr-"
      },
      "source": [
        "# 모델 생성\n",
        "model = tf.keras.Sequential([\n",
        "    tf.keras.layers.Dense(units=2, activation='relu', input_shape=(2,)),\n",
        "    tf.keras.layers.Dense(units=1, activation='sigmoid')\n",
        "])\n",
        "\n",
        "# 모델 설정\n",
        "model.compile(optimizer=tf.keras.optimizers.Adam(learning_rate=0.01), loss='binary_crossentropy', metrics='accuracy')\n",
        "model.summary()"
      ],
      "execution_count": null,
      "outputs": []
    },
    {
      "cell_type": "markdown",
      "metadata": {
        "id": "nqQf9_GwmH3o"
      },
      "source": [
        "![picture](https://img1.daumcdn.net/thumb/R1280x0/?scode=mtistory2&fname=https%3A%2F%2Fblog.kakaocdn.net%2Fdn%2FdnjFEC%2FbtqE14qkUEC%2FJ5J22dRlaMdALVKbBGkefK%2Fimg.png)\n",
        "\n"
      ]
    },
    {
      "cell_type": "code",
      "metadata": {
        "id": "_61W1SFKNf7P"
      },
      "source": [
        "model.fit(x, y, epochs=500, batch_size=1, verbose=0)\n",
        "\n",
        "model.predict(x).round(4)"
      ],
      "execution_count": null,
      "outputs": []
    },
    {
      "cell_type": "code",
      "metadata": {
        "id": "EuTRGR_VwG4E"
      },
      "source": [
        "scores = model.evaluate(x, y)\n",
        "print('모델 정확도:', scores[1] * 100, '%' )"
      ],
      "execution_count": null,
      "outputs": []
    },
    {
      "cell_type": "code",
      "metadata": {
        "id": "mH_nk-orNCT5"
      },
      "source": [
        "# 조금 더 깊은 모델 생성\n",
        "deep_model = tf.keras.Sequential([\n",
        "    tf.keras.layers.Dense(units=8, activation='relu', input_shape=(2,)),\n",
        "    tf.keras.layers.Dense(units=1, activation='sigmoid')\n",
        "])\n",
        "\n",
        "# 모델 설정\n",
        "deep_model.compile(optimizer=tf.keras.optimizers.Adam(learning_rate=0.01), loss='binary_crossentropy', metrics='accuracy')\n",
        "deep_model.summary()"
      ],
      "execution_count": null,
      "outputs": []
    },
    {
      "cell_type": "code",
      "metadata": {
        "id": "63tD99Nk_mrA"
      },
      "source": [
        "# 모델 학습\n",
        "deep_model.fit(x, y, epochs=500, batch_size=1, verbose=0)\n",
        "\n",
        "deep_model.predict(x).round(4)"
      ],
      "execution_count": null,
      "outputs": []
    },
    {
      "cell_type": "code",
      "metadata": {
        "id": "nefHYV_p-5bQ"
      },
      "source": [
        "scores = model.evaluate(x, y)\n",
        "print('모델 정확도:', scores[1] * 100, '%' )"
      ],
      "execution_count": null,
      "outputs": []
    },
    {
      "cell_type": "markdown",
      "metadata": {
        "id": "8FrC9F8LLOvR"
      },
      "source": [
        "## TODO\n",
        "## 입력값이 3개인 NOR 문제 \n",
        "\n",
        "![picture](https://oopy.lazyrockets.com/api/v2/notion/image?src=https%3A%2F%2Fblog.kakaocdn.net%2Fdn%2FQq0wG%2FbtqVbXBQu1F%2FsqKXkbc6seyPkrGQtEPPn0%2Fimg.png&blockId=92d5ed48-5b3c-4691-af91-e905d3ea494d)"
      ]
    },
    {
      "cell_type": "markdown",
      "metadata": {
        "id": "IYnDp10SQOEg"
      },
      "source": [
        "### Machine Learning: LogisticRegression으로 문제 풀기"
      ]
    },
    {
      "cell_type": "code",
      "metadata": {
        "id": "vM-IzhZaFNg4"
      },
      "source": [
        "from sklearn.linear_model import LogisticRegression\n",
        "from sklearn.metrics import  accuracy_score\n",
        "\n",
        "x = np.array([[0, 0, 0], [0, 0, 1], [0, 1, 0], [0, 1, 1], [1, 0, 0], [1, 0, 1], [1, 1, 0], [1, 1, 1]])\n",
        "\n",
        "y = np.array([[0], [0], [1], [0], [1], [0], [1], [0]])\n",
        "\n",
        "lr_model = LogisticRegression()\n",
        "lr_model.fit(x,y)\n",
        "lr_predict = lr_model.predict(x)\n",
        "\n",
        "print('Logistic Regression 정확도: ',accuracy_score(lr_predict, y).round(4) * 100, '%')"
      ],
      "execution_count": null,
      "outputs": []
    },
    {
      "cell_type": "markdown",
      "metadata": {
        "id": "rFlpIvnxP6zo"
      },
      "source": [
        "### Deep Learning으로 문제 풀기"
      ]
    },
    {
      "cell_type": "code",
      "metadata": {
        "id": "P0KPL3rpfXHs"
      },
      "source": [
        "nor_model = tf.keras.Sequential([\n",
        "    tf.keras.layers.Dense(units=16, activation='relu', input_shape=(3,)),\n",
        "    tf.keras.layers.Dense(units=8, activation='relu'),\n",
        "    tf.keras.layers.Dense(units=1, activation='sigmoid')\n",
        "])\n",
        "\n",
        "nor_model.compile(optimizer=tf.keras.optimizers.Adam(), loss='binary_crossentropy', metrics='accuracy')\n",
        "\n",
        "nor_model.fit(x, y, epochs = 300, batch_size=1, verbose=0)"
      ],
      "execution_count": null,
      "outputs": []
    },
    {
      "cell_type": "code",
      "metadata": {
        "id": "StKYt99spFCx"
      },
      "source": [
        "print(nor_model.predict(x).round(1) == y)"
      ],
      "execution_count": null,
      "outputs": []
    },
    {
      "cell_type": "code",
      "metadata": {
        "id": "duuz3sn6hzAB"
      },
      "source": [
        "scores = nor_model.evaluate(x, y)\n",
        "print('모델 정확도:', scores[1] * 100, '%' )"
      ],
      "execution_count": null,
      "outputs": []
    },
    {
      "cell_type": "markdown",
      "metadata": {
        "id": "8UyxyQ0uDqJQ"
      },
      "source": [
        "# 2. 회귀문제: Neural Network를 활용한 함수 학습 및 예측\n",
        "## 문제:\n",
        "![image.png](data:image/png;base64,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)\n",
        "![image.png](data:image/png;base64,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)\n",
        "## Neural Network가 위의 함수에 대해 학습 가능한지 확인.\n",
        "\n"
      ]
    },
    {
      "cell_type": "code",
      "metadata": {
        "id": "NfTUjc7Xk1HD"
      },
      "source": [
        "# 함수 생성\n",
        "def func(x):\n",
        "  y = 0.2 + 0.4 * x**2 + 0.3*x*np.sin(15*x) + 0.05*np.cos(40*x)\n",
        "  return y\n",
        "\n",
        "# 학습 데이터 만들기\n",
        "x = np.linspace(0, 1, 100)\n",
        "y = func(x)"
      ],
      "execution_count": null,
      "outputs": []
    },
    {
      "cell_type": "markdown",
      "metadata": {
        "id": "YHnnr-iqqVxv"
      },
      "source": [
        "### 실제 함수 그래프 확인"
      ]
    },
    {
      "cell_type": "code",
      "metadata": {
        "id": "MH2KKnACCar5"
      },
      "source": [
        "import matplotlib.pyplot as plt\n",
        "\n",
        "fig = plt.figure()\n",
        "plt.plot(x, y, 'r')\n",
        "\n",
        "plt.show()"
      ],
      "execution_count": null,
      "outputs": []
    },
    {
      "cell_type": "markdown",
      "metadata": {
        "id": "NPksGaLpqfXP"
      },
      "source": [
        "###  모델 학습 및 확인"
      ]
    },
    {
      "cell_type": "code",
      "metadata": {
        "colab": {
          "base_uri": "https://localhost:8080/"
        },
        "id": "yguQ-GrUCV1Y",
        "outputId": "ab32ef0d-90fa-4f22-f851-0efb65f9734b"
      },
      "source": [
        "# 모델 생성\n",
        "model = tf.keras.Sequential([\n",
        "    tf.keras.layers.Dense(units=16, activation='relu', input_shape=(1,)),\n",
        "    tf.keras.layers.Dense(units=10, activation='relu'),\n",
        "    tf.keras.layers.Dense(units=1),\n",
        "])\n",
        "\n",
        "# 모델 설정\n",
        "model.compile(optimizer='adam', loss='mse')\n",
        "\n",
        "# 모델 학습\n",
        "model.fit(x, y, epochs = 500, verbose=0, batch_size=1)"
      ],
      "execution_count": null,
      "outputs": [
        {
          "output_type": "execute_result",
          "data": {
            "text/plain": [
              "<keras.callbacks.History at 0x7f9920e75a10>"
            ]
          },
          "metadata": {},
          "execution_count": 16
        }
      ]
    },
    {
      "cell_type": "code",
      "metadata": {
        "id": "mt0YvbF6CaEY"
      },
      "source": [
        "# 예측\n",
        "y_pred = model.predict(x)  # Nerual Network의 예측값\n",
        "\n",
        "# Plot\n",
        "fig = plt.figure()\n",
        "plt.plot(x, y_pred, 'r')\n",
        "plt.show()"
      ],
      "execution_count": null,
      "outputs": []
    },
    {
      "cell_type": "markdown",
      "metadata": {
        "id": "Yhg_UNVlkFYR"
      },
      "source": [
        "#### 더 큰 학습 데이터셋을 사용하여 훈련"
      ]
    },
    {
      "cell_type": "code",
      "metadata": {
        "colab": {
          "base_uri": "https://localhost:8080/"
        },
        "id": "m6vFdLRx5-hZ",
        "outputId": "0a23778e-f170-4f25-dc39-4831c8276c9f"
      },
      "source": [
        "# 학습 데이터셋 생성\n",
        "x = np.linspace(0, 1, 500)  # 0~1 사이의 숫자를 500개로 분할\n",
        "y = func(x)\n",
        "\n",
        "# 모델 생성\n",
        "model = tf.keras.Sequential([\n",
        "    tf.keras.layers.Dense(units=16, activation='relu', input_shape=(1,)),\n",
        "    tf.keras.layers.Dense(units=10, activation='relu'),\n",
        "    tf.keras.layers.Dense(units=1),\n",
        "])\n",
        "\n",
        "# 모델 설정\n",
        "model.compile(optimizer='adam', loss='mse')\n",
        "\n",
        "# 모델 학습\n",
        "model.fit(x, y, epochs = 500, verbose=0, batch_size=1)"
      ],
      "execution_count": null,
      "outputs": [
        {
          "output_type": "execute_result",
          "data": {
            "text/plain": [
              "<keras.callbacks.History at 0x7f9921293c10>"
            ]
          },
          "metadata": {},
          "execution_count": 18
        }
      ]
    },
    {
      "cell_type": "code",
      "metadata": {
        "id": "ABmAZbxQ5_A5"
      },
      "source": [
        "# x값에 대한 예측값 저장\n",
        "y_pred = model.predict(x)\n",
        "\n",
        "# x값에 대한 y값 Plot\n",
        "fig = plt.figure()\n",
        "plt.plot(x, y_pred, 'r')\n",
        "plt.show()"
      ],
      "execution_count": null,
      "outputs": []
    },
    {
      "cell_type": "markdown",
      "metadata": {
        "id": "brvIIWCoWwhH"
      },
      "source": [
        "### 모델 성능 확인"
      ]
    },
    {
      "cell_type": "code",
      "metadata": {
        "id": "SIKe3FViW-b1"
      },
      "source": [
        "# x값에 대한 y 실제값\n",
        "# 0, 0.01, 0.02, ... 1 까지의 데이터를 만들고 모델로 예측해보기\n",
        "\n",
        "x = np.linspace(0, 1, 100)\n",
        "y = func(x)\n",
        "\n",
        "# 실제 데이터 Plot\n",
        "fig = plt.figure()\n",
        "plt.plot(x, y, 'r')\n",
        "\n",
        "plt.show()"
      ],
      "execution_count": null,
      "outputs": []
    },
    {
      "cell_type": "code",
      "metadata": {
        "id": "jTVdVr-xAvNf"
      },
      "source": [
        "# 모델의 예측 데이터 Plot \n",
        "y_pred = model.predict(x)\n",
        "\n",
        "fig = plt.figure()\n",
        "plt.plot(x, y_pred)\n",
        "plt.show()"
      ],
      "execution_count": null,
      "outputs": []
    },
    {
      "cell_type": "markdown",
      "metadata": {
        "id": "U7lSaeXGnAqQ"
      },
      "source": [
        "#### 실제값과 예측값 차이"
      ]
    },
    {
      "cell_type": "code",
      "metadata": {
        "id": "W5nNPSO6F6UQ"
      },
      "source": [
        "y_pred = y_pred.reshape(-1, )\n",
        "\n",
        "y_bias = (y - y_pred)  # 실제값과 예측값의 차이\n",
        "\n",
        "fig = plt.figure()\n",
        "ax = fig.add_subplot(1, 1, 1)\n",
        "ax.spines['left'].set_position('center')\n",
        "ax.spines['bottom'].set_position('zero')\n",
        "ax.spines['right'].set_color('none')\n",
        "ax.spines['top'].set_color('none')\n",
        "ax.xaxis.set_ticks_position('bottom')\n",
        "ax.yaxis.set_ticks_position('left')\n",
        "\n",
        "plt.plot(x, y_bias)\n",
        "plt.show()"
      ],
      "execution_count": null,
      "outputs": []
    },
    {
      "cell_type": "markdown",
      "metadata": {
        "id": "3Hr2lKKcJJeI"
      },
      "source": [
        "### 숙제\n",
        "### 1. 자신만의 함수를 만들어서 딥러닝을 활용하여 문제를 풀어보세요.\n",
        "### 2. 실제값과 모델의 예측값에 대해 각각의 그래프를 그려보세요 "
      ]
    },
    {
      "cell_type": "markdown",
      "metadata": {
        "id": "E_RT9jO04oKa"
      },
      "source": [
        "# 3. IRIS 데이터를 활용한 붓꽃 종류 분류 문제\n",
        "![picture](https://static.vecteezy.com/system/resources/previews/000/145/921/non_2x/vector-iris-flower-banner-line-art.jpg)"
      ]
    },
    {
      "cell_type": "markdown",
      "metadata": {
        "id": "1cGqfHu4uV2X"
      },
      "source": [
        "### 데이터셋 불러오기"
      ]
    },
    {
      "cell_type": "code",
      "metadata": {
        "id": "pCQD-YCe6Ceq"
      },
      "source": [
        "from sklearn.datasets import load_iris\n",
        "\n",
        "iris = load_iris()\n",
        "\n",
        "print(iris['DESCR'])"
      ],
      "execution_count": null,
      "outputs": []
    },
    {
      "cell_type": "markdown",
      "metadata": {
        "id": "TLeqVmasu-Yu"
      },
      "source": [
        "### 데이터셋 구성"
      ]
    },
    {
      "cell_type": "code",
      "metadata": {
        "id": "poKS030Zu4-_"
      },
      "source": [
        "iris['data'][:5]"
      ],
      "execution_count": null,
      "outputs": []
    },
    {
      "cell_type": "code",
      "metadata": {
        "id": "0KLGmWJO79-R"
      },
      "source": [
        "iris['feature_names']"
      ],
      "execution_count": null,
      "outputs": []
    },
    {
      "cell_type": "code",
      "metadata": {
        "id": "slWd0ePC8UgK"
      },
      "source": [
        "iris['target_names']"
      ],
      "execution_count": null,
      "outputs": []
    },
    {
      "cell_type": "markdown",
      "metadata": {
        "id": "YNLHjnY02m1f"
      },
      "source": [
        "### IRIS 데이터 파일 다운로드 및 불러오기"
      ]
    },
    {
      "cell_type": "code",
      "metadata": {
        "id": "t783XYvHB-Q5"
      },
      "source": [
        "!gdown --id 1OY3rIHnQ2PDCWgRvJgv0ojjbxMLr7p_i\n",
        "\n",
        "import pandas as pd\n",
        "\n",
        "df = pd.read_csv('Iris.csv')"
      ],
      "execution_count": null,
      "outputs": []
    },
    {
      "cell_type": "code",
      "metadata": {
        "id": "MwKf8ta3FSCo"
      },
      "source": [
        "df"
      ],
      "execution_count": null,
      "outputs": []
    },
    {
      "cell_type": "markdown",
      "metadata": {
        "id": "y2WYAD8Y2u5X"
      },
      "source": [
        "### 데이터 확인\n",
        "#### Sepal(꽃받침) 관련 데이터 분포 확인"
      ]
    },
    {
      "cell_type": "code",
      "metadata": {
        "id": "_HKbyGilFVKZ"
      },
      "source": [
        "import plotly.graph_objs as go\n",
        "import plotly.offline as py\n",
        "\n",
        "setosa = go.Scatter(x = df['SepalLengthCm'][df.Species =='Iris-setosa'], y = df['SepalWidthCm'][df.Species =='Iris-setosa']\n",
        "                   , mode = 'markers', name = 'setosa')\n",
        "versicolor = go.Scatter(x = df['SepalLengthCm'][df.Species =='Iris-versicolor'], y = df['SepalWidthCm'][df.Species =='Iris-versicolor']\n",
        "                   , mode = 'markers', name = 'versicolor')\n",
        "virginica = go.Scatter(x = df['SepalLengthCm'][df.Species =='Iris-virginica'], y = df['SepalWidthCm'][df.Species =='Iris-virginica']\n",
        "                   , mode = 'markers', name = 'virginica')\n",
        "\n",
        "\n",
        "data = [setosa, versicolor, virginica]\n",
        "fig = dict(data=data)\n",
        "py.iplot(fig, filename='styled-scatter')"
      ],
      "execution_count": null,
      "outputs": []
    },
    {
      "cell_type": "markdown",
      "metadata": {
        "id": "EVQ0N11025e2"
      },
      "source": [
        "#### Petal(꽃잎) 데이터 분포 확인"
      ]
    },
    {
      "cell_type": "code",
      "metadata": {
        "id": "vIREePSHOGaH"
      },
      "source": [
        "setosa = go.Scatter(x = df['PetalLengthCm'][df.Species =='Iris-setosa'], y = df['PetalWidthCm'][df.Species =='Iris-setosa']\n",
        "                   , mode = 'markers', name = 'setosa')\n",
        "versicolor = go.Scatter(x = df['PetalLengthCm'][df.Species =='Iris-versicolor'], y = df['PetalWidthCm'][df.Species =='Iris-versicolor']\n",
        "                   , mode = 'markers', name = 'versicolor')\n",
        "virginica = go.Scatter(x = df['PetalLengthCm'][df.Species =='Iris-virginica'], y = df['PetalWidthCm'][df.Species =='Iris-virginica']\n",
        "                   , mode = 'markers', name = 'virginica')\n",
        "data = [setosa, versicolor, virginica]\n",
        "\n",
        "fig = dict(data=data)\n",
        "py.iplot(fig, filename='styled-scatter')"
      ],
      "execution_count": null,
      "outputs": []
    },
    {
      "cell_type": "markdown",
      "metadata": {
        "id": "uhaOn1493ZpY"
      },
      "source": [
        "### 머신러닝 학습을 위한 데이터셋 분할 및 전처리\n",
        "#### 학습 및 평가를 위한 훈련 데이터셋과 정답 데이터셋 구성"
      ]
    },
    {
      "cell_type": "code",
      "metadata": {
        "id": "Q28no5sXOW3g"
      },
      "source": [
        "x = df[['SepalLengthCm','SepalWidthCm','PetalLengthCm','PetalWidthCm']]\n",
        "y = df['Species']"
      ],
      "execution_count": null,
      "outputs": []
    },
    {
      "cell_type": "code",
      "metadata": {
        "id": "mDGFZqEZOthP"
      },
      "source": [
        "y"
      ],
      "execution_count": null,
      "outputs": []
    },
    {
      "cell_type": "markdown",
      "metadata": {
        "id": "-AmKy9ga32GQ"
      },
      "source": [
        "#### 학습을 위해 문자열로 구성된 y값을 숫자 배열 형태로 변환"
      ]
    },
    {
      "cell_type": "code",
      "metadata": {
        "id": "wWScoGZwOqnH"
      },
      "source": [
        "from sklearn.preprocessing import LabelEncoder\n",
        "\n",
        "encoder = LabelEncoder()\n",
        "y = encoder.fit_transform(y)"
      ],
      "execution_count": null,
      "outputs": []
    },
    {
      "cell_type": "code",
      "metadata": {
        "id": "15DSq65Z3lQO"
      },
      "source": [
        "y"
      ],
      "execution_count": null,
      "outputs": []
    },
    {
      "cell_type": "markdown",
      "metadata": {
        "id": "RSMalFwP3_wQ"
      },
      "source": [
        "#### 데이터 분할"
      ]
    },
    {
      "cell_type": "code",
      "metadata": {
        "id": "si7u7t9BO-6n"
      },
      "source": [
        "from sklearn.model_selection import train_test_split\n",
        "\n",
        "x_train, x_test, y_train, y_test = train_test_split(x, y, test_size = 0.2, stratify=y,random_state = 42)"
      ],
      "execution_count": null,
      "outputs": []
    },
    {
      "cell_type": "markdown",
      "metadata": {
        "id": "1j9bNOuq4DOA"
      },
      "source": [
        "### 머신러닝 모델 학습(Logistic Regression, SVC)"
      ]
    },
    {
      "cell_type": "code",
      "metadata": {
        "id": "sua02jwrQJz4"
      },
      "source": [
        "from sklearn.linear_model import LogisticRegression\n",
        "from sklearn.svm import SVC\n",
        "from sklearn.metrics import  accuracy_score\n",
        "\n",
        "# Logistic Regression\n",
        "lr_model = LogisticRegression()\n",
        "lr_model.fit(x_train,y_train)\n",
        "lr_predict = lr_model.predict(x_test)\n",
        "\n",
        "print('Logistic Regression 정확도: ',accuracy_score(lr_predict,y_test).round(4) * 100, '%')"
      ],
      "execution_count": null,
      "outputs": []
    },
    {
      "cell_type": "code",
      "metadata": {
        "id": "uQYNZ1h7PV8e"
      },
      "source": [
        "# SVC\n",
        "\n",
        "svm_model = SVC(kernel='linear')\n",
        "svm_model.fit(x_train,y_train)\n",
        "svc_predict = svm_model.predict(x_test)\n",
        "\n",
        "print('SVM 정확도: ',accuracy_score(lr_predict,y_test).round(4) * 100, '%')"
      ],
      "execution_count": null,
      "outputs": []
    },
    {
      "cell_type": "markdown",
      "metadata": {
        "id": "zrHDj_SUTYj5"
      },
      "source": [
        "### 딥러닝 모델 학습을 위한 전처리"
      ]
    },
    {
      "cell_type": "code",
      "metadata": {
        "id": "K4hvD0w8QsG0"
      },
      "source": [
        "import keras\n",
        "from keras.models import Sequential\n",
        "from keras.layers import Dense\n",
        "from sklearn.preprocessing import StandardScaler, LabelBinarizer\n",
        "\n",
        "# 데이터셋 생성\n",
        "\n",
        "X = df[['SepalLengthCm', 'SepalWidthCm', 'PetalLengthCm', 'PetalWidthCm']]\n",
        "y = df['Species']\n",
        "\n",
        "X = StandardScaler().fit_transform(X)\n",
        "y = LabelBinarizer().fit_transform(y)"
      ],
      "execution_count": null,
      "outputs": []
    },
    {
      "cell_type": "code",
      "metadata": {
        "id": "obCQXatO4XCu"
      },
      "source": [
        "y"
      ],
      "execution_count": null,
      "outputs": []
    },
    {
      "cell_type": "code",
      "metadata": {
        "id": "UgL9InGZQuWW"
      },
      "source": [
        "# train_test_split\n",
        "x_train, x_test, y_train, y_test = train_test_split(X, y, test_size = 0.2, stratify=y,random_state = 42)"
      ],
      "execution_count": null,
      "outputs": []
    },
    {
      "cell_type": "markdown",
      "metadata": {
        "id": "xKUwE2UaT3y3"
      },
      "source": [
        "### 딥러닝 모델 학습"
      ]
    },
    {
      "cell_type": "code",
      "metadata": {
        "id": "uUQu1_L4sWQJ"
      },
      "source": [
        ""
      ],
      "execution_count": null,
      "outputs": []
    },
    {
      "cell_type": "code",
      "metadata": {
        "id": "N23ZfwfsRaxW"
      },
      "source": [
        "# shallow 모델 생성\n",
        "shallow_model = Sequential()\n",
        "shallow_model.add(Dense(units=4, activation = 'relu', input_dim=4,))\n",
        "shallow_model.add(Dense(units=10, activation= 'relu'))\n",
        "shallow_model.add(Dense(units=3, activation= 'softmax'))\n",
        "shallow_model.compile(loss = 'categorical_crossentropy', optimizer = 'adam', metrics = ['accuracy'])"
      ],
      "execution_count": null,
      "outputs": []
    },
    {
      "cell_type": "code",
      "metadata": {
        "id": "q1u43KyoRk1W"
      },
      "source": [
        "# shallow 모델 훈련\n",
        "shallow_history = shallow_model.fit(x_train, y_train, epochs = 300, validation_data = (x_test, y_test))"
      ],
      "execution_count": null,
      "outputs": []
    },
    {
      "cell_type": "code",
      "metadata": {
        "id": "fVwSESdMRnSm"
      },
      "source": [
        "# deep 모델 생성\n",
        "deep_model = Sequential()\n",
        "deep_model.add(Dense( 4, input_dim=4, activation = 'relu'))\n",
        "deep_model.add(Dense( units = 10, activation= 'relu'))\n",
        "deep_model.add(Dense( units = 10, activation= 'relu'))\n",
        "deep_model.add(Dense( units = 10, activation= 'relu'))\n",
        "deep_model.add(Dense( units = 10, activation= 'relu'))\n",
        "deep_model.add(Dense( units = 10, activation= 'relu'))\n",
        "deep_model.add(Dense( units = 10, activation= 'relu'))\n",
        "deep_model.add(Dense( units = 10, activation= 'relu'))\n",
        "deep_model.add(Dense( units = 10, activation= 'relu'))\n",
        "deep_model.add(Dense( units = 3, activation= 'softmax'))\n",
        "deep_model.compile(loss = 'categorical_crossentropy', optimizer = 'adam', metrics = ['accuracy'])"
      ],
      "execution_count": null,
      "outputs": []
    },
    {
      "cell_type": "code",
      "metadata": {
        "id": "ZJ8fIs4TShV0"
      },
      "source": [
        "# deep 모델 훈련\n",
        "deep_history = deep_model.fit(x_train, y_train, epochs = 300, validation_data = (x_test, y_test))"
      ],
      "execution_count": null,
      "outputs": []
    },
    {
      "cell_type": "code",
      "metadata": {
        "id": "pBUQlh5wSmjH"
      },
      "source": [
        "# 정확도 Plot\n",
        "\n",
        "import matplotlib.pyplot as plt\n",
        "\n",
        "plt.plot(deep_history.history['accuracy'])\n",
        "plt.plot(deep_history.history['val_accuracy'])\n",
        "plt.title(\"Accuracy\")\n",
        "plt.legend(['train', 'test'])\n",
        "plt.show()"
      ],
      "execution_count": null,
      "outputs": []
    },
    {
      "cell_type": "code",
      "metadata": {
        "id": "hmQ09WclSvJ_"
      },
      "source": [
        "# Loss값 plot\n",
        "\n",
        "plt.plot(deep_history.history['loss'])\n",
        "plt.plot(deep_history.history['val_loss'])\n",
        "plt.plot('Loss')\n",
        "plt.legend(['Train','Test'])\n",
        "plt.show()"
      ],
      "execution_count": null,
      "outputs": []
    },
    {
      "cell_type": "markdown",
      "metadata": {
        "id": "cJr5P-CF2ue6"
      },
      "source": [
        "# Reference\n",
        "#### XOR문제: https://childult-programmer.tistory.com/46\n",
        "#### Tensorflow.keras: https://www.tensorflow.org/api_docs/python/tf/keras"
      ]
    },
    {
      "cell_type": "code",
      "metadata": {
        "id": "wl9sTXBpS6pA"
      },
      "source": [
        ""
      ],
      "execution_count": null,
      "outputs": []
    }
  ]
}